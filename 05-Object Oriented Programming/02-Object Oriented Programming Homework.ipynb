{
  "cells": [
    {
      "cell_type": "markdown",
      "metadata": {
        "id": "ggrQMzE8PbqW"
      },
      "source": [
        "___\n",
        "\n",
        "<a href='https://www.udemy.com/user/joseportilla/'><img src='https://github.com/XiaoSenZheng/Complete-Python-3-Bootcamp/blob/master/Pierian_Data_Logo.png?raw=1'/></a>\n",
        "___\n",
        "<center><em>Content Copyright by Pierian Data</em></center>"
      ]
    },
    {
      "cell_type": "markdown",
      "metadata": {
        "id": "Spxl5x08Pbqc"
      },
      "source": [
        "# Object Oriented Programming\n",
        "## Homework Assignment\n",
        "\n",
        "#### Problem 1\n",
        "Fill in the Line class methods to accept coordinates as a pair of tuples and return the slope and distance of the line."
      ]
    },
    {
      "cell_type": "code",
      "execution_count": 11,
      "metadata": {
        "collapsed": true,
        "id": "USeh6K1WPbqc"
      },
      "outputs": [],
      "source": [
        "class Line:\n",
        "\n",
        "    def __init__(self,coor1,coor2):\n",
        "        self.coor1 = coor1\n",
        "        self.coor2 = coor2\n",
        "\n",
        "    def distance(self):\n",
        "        (self.x1,self.y1) = self.coor1\n",
        "        (self.x2,self.y2) = self.coor2\n",
        "        d = ((self.x2-self.x1)**2+(self.y2-self.y1)**2)**(0.5)\n",
        "        return d\n",
        "    def slope(self):\n",
        "        m = (self.y2-self.y1) / (self.x2-self.x1)\n",
        "        return m"
      ]
    },
    {
      "cell_type": "code",
      "execution_count": 16,
      "metadata": {
        "collapsed": true,
        "id": "wshEQeSMPbqe"
      },
      "outputs": [],
      "source": [
        "# EXAMPLE OUTPUT\n",
        "\n",
        "coordinate1 = (3,2)\n",
        "coordinate2 = (8,10)\n",
        "\n",
        "li = Line(coordinate1,coordinate2)"
      ]
    },
    {
      "cell_type": "code",
      "execution_count": 17,
      "metadata": {
        "id": "umEslyc3Pbqf",
        "outputId": "c0f7e8b3-9ac9-4722-a3a7-8692fcdaced1",
        "colab": {
          "base_uri": "https://localhost:8080/"
        }
      },
      "outputs": [
        {
          "output_type": "execute_result",
          "data": {
            "text/plain": [
              "9.433981132056603"
            ]
          },
          "metadata": {},
          "execution_count": 17
        }
      ],
      "source": [
        "li.distance()"
      ]
    },
    {
      "cell_type": "code",
      "execution_count": 18,
      "metadata": {
        "id": "i3ph5AzwPbqg",
        "outputId": "6856c077-3410-454e-e573-b5964a9ee16b",
        "colab": {
          "base_uri": "https://localhost:8080/"
        }
      },
      "outputs": [
        {
          "output_type": "execute_result",
          "data": {
            "text/plain": [
              "1.6"
            ]
          },
          "metadata": {},
          "execution_count": 18
        }
      ],
      "source": [
        "li.slope()"
      ]
    },
    {
      "cell_type": "markdown",
      "metadata": {
        "id": "qGvlHne4Pbqh"
      },
      "source": [
        "________\n",
        "#### Problem 2"
      ]
    },
    {
      "cell_type": "markdown",
      "metadata": {
        "id": "7Z-pcpgRPbqi"
      },
      "source": [
        "Fill in the class"
      ]
    },
    {
      "cell_type": "code",
      "execution_count": 2,
      "metadata": {
        "collapsed": true,
        "id": "TKqVygAaPbqi"
      },
      "outputs": [],
      "source": [
        "class Cylinder:\n",
        "\n",
        "    def __init__(self,height=1,radius=1):\n",
        "        self.height = height\n",
        "        self.radius = radius\n",
        "\n",
        "    def volume(self):\n",
        "        return 0.25 * 3.14 * (2 * self.radius)**2 * self.height\n",
        "\n",
        "    def surface_area(self):\n",
        "        return 2 * 0.25 * 3.14 * (2 * self.radius)**2 + 3.14 * 2 * self.radius * self.height"
      ]
    },
    {
      "cell_type": "code",
      "execution_count": 3,
      "metadata": {
        "collapsed": true,
        "id": "m7zQBsMwPbqj"
      },
      "outputs": [],
      "source": [
        "# EXAMPLE OUTPUT\n",
        "c = Cylinder(2,3)"
      ]
    },
    {
      "cell_type": "code",
      "execution_count": 4,
      "metadata": {
        "id": "6a9zhkh7Pbqj",
        "outputId": "8dcc2bd8-6264-4e51-a39a-2f45768134d5",
        "colab": {
          "base_uri": "https://localhost:8080/"
        }
      },
      "outputs": [
        {
          "output_type": "execute_result",
          "data": {
            "text/plain": [
              "56.52"
            ]
          },
          "metadata": {},
          "execution_count": 4
        }
      ],
      "source": [
        "c.volume()"
      ]
    },
    {
      "cell_type": "code",
      "execution_count": 6,
      "metadata": {
        "id": "AzTlKY63Pbqj",
        "outputId": "e11d5877-e6a7-431a-c751-ed80cfff4271",
        "colab": {
          "base_uri": "https://localhost:8080/"
        }
      },
      "outputs": [
        {
          "output_type": "execute_result",
          "data": {
            "text/plain": [
              "94.2"
            ]
          },
          "metadata": {},
          "execution_count": 6
        }
      ],
      "source": [
        "c.surface_area()"
      ]
    }
  ],
  "metadata": {
    "kernelspec": {
      "display_name": "Python 3",
      "language": "python",
      "name": "python3"
    },
    "language_info": {
      "codemirror_mode": {
        "name": "ipython",
        "version": 3
      },
      "file_extension": ".py",
      "mimetype": "text/x-python",
      "name": "python",
      "nbconvert_exporter": "python",
      "pygments_lexer": "ipython3",
      "version": "3.6.6"
    },
    "colab": {
      "provenance": []
    }
  },
  "nbformat": 4,
  "nbformat_minor": 0
}