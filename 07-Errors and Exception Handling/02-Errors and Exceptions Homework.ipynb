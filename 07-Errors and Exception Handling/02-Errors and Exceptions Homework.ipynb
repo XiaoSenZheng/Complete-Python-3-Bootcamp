{
  "cells": [
    {
      "cell_type": "markdown",
      "metadata": {
        "id": "nYX3geKAkKez"
      },
      "source": [
        "___\n",
        "\n",
        "<a href='https://www.udemy.com/user/joseportilla/'><img src='https://github.com/XiaoSenZheng/Complete-Python-3-Bootcamp/blob/master/Pierian_Data_Logo.png?raw=1'/></a>\n",
        "___\n",
        "<center><em>Content Copyright by Pierian Data</em></center>"
      ]
    },
    {
      "cell_type": "markdown",
      "metadata": {
        "id": "yjaEUYRqkKe7"
      },
      "source": [
        "# Errors and Exceptions Homework"
      ]
    },
    {
      "cell_type": "markdown",
      "metadata": {
        "id": "Cyc-prQAkKe7"
      },
      "source": [
        "### Problem 1\n",
        "Handle the exception thrown by the code below by using <code>try</code> and <code>except</code> blocks."
      ]
    },
    {
      "cell_type": "code",
      "execution_count": 1,
      "metadata": {
        "id": "XYhBVLSnkKe8",
        "outputId": "0b1a760c-e4c8-42c3-ece4-d22cbb518f51",
        "colab": {
          "base_uri": "https://localhost:8080/"
        }
      },
      "outputs": [
        {
          "output_type": "stream",
          "name": "stdout",
          "text": [
            "This does not work\n"
          ]
        }
      ],
      "source": [
        "try:\n",
        "  for i in ['a','b','c']:\n",
        "     print(i**2)\n",
        "except:\n",
        "  print(\"This does not work\")"
      ]
    },
    {
      "cell_type": "markdown",
      "metadata": {
        "id": "nNjczxc5kKe-"
      },
      "source": [
        "### Problem 2\n",
        "Handle the exception thrown by the code below by using <code>try</code> and <code>except</code> blocks. Then use a <code>finally</code> block to print 'All Done.'"
      ]
    },
    {
      "cell_type": "code",
      "execution_count": 2,
      "metadata": {
        "id": "GRoJ80_OkKe-",
        "outputId": "3ac257bd-0fdc-4336-c728-5054d94cac60",
        "colab": {
          "base_uri": "https://localhost:8080/"
        }
      },
      "outputs": [
        {
          "output_type": "stream",
          "name": "stdout",
          "text": [
            "this does not work\n",
            "All Done.\n"
          ]
        }
      ],
      "source": [
        "\n",
        "x = 5\n",
        "y = 0\n",
        "try:\n",
        "  z = x/y\n",
        "except:\n",
        "  print(\"this does not work\")\n",
        "finally:\n",
        "  print(\"All Done.\")"
      ]
    },
    {
      "cell_type": "markdown",
      "metadata": {
        "id": "bL1FrgHRkKe_"
      },
      "source": [
        "### Problem 3\n",
        "Write a function that asks for an integer and prints the square of it. Use a <code>while</code> loop with a <code>try</code>, <code>except</code>, <code>else</code> block to account for incorrect inputs."
      ]
    },
    {
      "cell_type": "code",
      "execution_count": 3,
      "metadata": {
        "collapsed": true,
        "id": "7b_GeA7hkKe_"
      },
      "outputs": [],
      "source": [
        "def ask():\n",
        "    while True:\n",
        "      try:\n",
        "        result = int(input(\"Input an integer:\"))\n",
        "      except:\n",
        "        print(\"An error occurred! Please try again!\")\n",
        "        continue\n",
        "      else:\n",
        "        a = result ** 2\n",
        "        print(f\"Thank you, your numner squared is: {a}\")\n",
        "        break"
      ]
    },
    {
      "cell_type": "code",
      "execution_count": 4,
      "metadata": {
        "id": "hEDvJ-h6kKfA",
        "outputId": "e6e4014c-8c71-4400-edb7-2e962c6000e4",
        "colab": {
          "base_uri": "https://localhost:8080/"
        }
      },
      "outputs": [
        {
          "output_type": "stream",
          "name": "stdout",
          "text": [
            "Input an integer:null\n",
            "An error occurred! Please try again!\n",
            "Input an integer:20\n",
            "Thank you, your numner squared is: 400\n"
          ]
        }
      ],
      "source": [
        "ask()"
      ]
    },
    {
      "cell_type": "markdown",
      "metadata": {
        "id": "ZwlqfVRukKfA"
      },
      "source": [
        "# Great Job!"
      ]
    }
  ],
  "metadata": {
    "kernelspec": {
      "display_name": "Python 3",
      "language": "python",
      "name": "python3"
    },
    "language_info": {
      "codemirror_mode": {
        "name": "ipython",
        "version": 3
      },
      "file_extension": ".py",
      "mimetype": "text/x-python",
      "name": "python",
      "nbconvert_exporter": "python",
      "pygments_lexer": "ipython3",
      "version": "3.6.6"
    },
    "colab": {
      "provenance": []
    }
  },
  "nbformat": 4,
  "nbformat_minor": 0
}