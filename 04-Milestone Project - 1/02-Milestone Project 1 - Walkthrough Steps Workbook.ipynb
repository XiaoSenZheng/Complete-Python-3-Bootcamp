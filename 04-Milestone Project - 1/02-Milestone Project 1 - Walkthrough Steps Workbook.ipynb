{
  "cells": [
    {
      "cell_type": "markdown",
      "metadata": {
        "id": "JV-QJhJSk6ei"
      },
      "source": [
        "___\n",
        "\n",
        "<a href='https://www.udemy.com/user/joseportilla/'><img src='https://github.com/XiaoSenZheng/Complete-Python-3-Bootcamp/blob/master/Pierian_Data_Logo.png?raw=1'/></a>\n",
        "___\n",
        "<center><em>Content Copyright by Pierian Data</em></center>"
      ]
    },
    {
      "cell_type": "markdown",
      "metadata": {
        "id": "Wedla99ek6en"
      },
      "source": [
        "# Milestone Project 1: Walkthrough Steps Workbook\n",
        "\n",
        "Below is a set of steps for you to follow to try to create the Tic Tac Toe Milestone Project game!"
      ]
    },
    {
      "cell_type": "markdown",
      "metadata": {
        "id": "_N73dV0ok6eo"
      },
      "source": [
        "#### Some suggested tools before you get started:\n",
        "To take input from a user:\n",
        "\n",
        "    player1 = input(\"Please pick a marker 'X' or 'O'\")\n",
        "    \n",
        "Note that input() takes in a string. If you need an integer value, use\n",
        "\n",
        "    position = int(input('Please enter a number'))\n",
        "    \n",
        "<br>To clear the screen between moves:\n",
        "\n",
        "    from IPython.display import clear_output\n",
        "    clear_output()\n",
        "    \n",
        "Note that clear_output() will only work in jupyter. To clear the screen in other IDEs, consider:\n",
        "\n",
        "    print('\\n'*100)\n",
        "    \n",
        "This scrolls the previous board up out of view. Now on to the program!"
      ]
    },
    {
      "cell_type": "markdown",
      "metadata": {
        "id": "84SXK6auk6ep"
      },
      "source": [
        "**Step 1: Write a function that can print out a board. Set up your board as a list, where each index 1-9 corresponds with a number on a number pad, so you get a 3 by 3 board representation.**"
      ]
    },
    {
      "cell_type": "code",
      "execution_count": 15,
      "metadata": {
        "collapsed": true,
        "id": "xR2wmctak6eq"
      },
      "outputs": [],
      "source": [
        "from IPython.display import clear_output\n",
        "\n",
        "def display_board(board):\n",
        "\n",
        "    print(board[0:3])\n",
        "    print(board[3:6])\n",
        "    print(board[6:9])\n",
        "    return"
      ]
    },
    {
      "cell_type": "markdown",
      "metadata": {
        "id": "Ybdc6o13k6er"
      },
      "source": [
        "**TEST Step 1:** run your function on a test version of the board list, and make adjustments as necessary"
      ]
    },
    {
      "cell_type": "code",
      "execution_count": 16,
      "metadata": {
        "collapsed": true,
        "id": "obn6ypwFk6er",
        "outputId": "1f20ec8c-e8a4-4c20-83d1-9660e15a3f78",
        "colab": {
          "base_uri": "https://localhost:8080/"
        }
      },
      "outputs": [
        {
          "output_type": "stream",
          "name": "stdout",
          "text": [
            "['X', '0', 'X']\n",
            "['X', 'O', 'X']\n",
            "['X', 'X', 'O']\n"
          ]
        }
      ],
      "source": [
        "test_board = ['X','0','X','X','O','X','X','X','O','X']\n",
        "display_board(test_board)"
      ]
    },
    {
      "cell_type": "markdown",
      "metadata": {
        "id": "9I7GTuJ4k6es"
      },
      "source": [
        "**Step 2: Write a function that can take in a player input and assign their marker as 'X' or 'O'. Think about using *while* loops to continually ask until you get a correct answer.**"
      ]
    },
    {
      "cell_type": "code",
      "execution_count": 17,
      "metadata": {
        "collapsed": true,
        "id": "OvUeAqBbk6et"
      },
      "outputs": [],
      "source": [
        "from re import T\n",
        "def player_input():\n",
        "    x = False\n",
        "    while x == False:\n",
        "      player1 = input(\"Please pick a marker 'X' or 'O'\")\n",
        "      if player1 == \"X\":\n",
        "        player1 = \"X\"\n",
        "        print(\"Player1 is X\")\n",
        "        print(\"Player2 is 0\")\n",
        "        x = True\n",
        "      elif player1 == \"O\":\n",
        "        player1 = \"0\"\n",
        "        print(\"Player1 is 0\")\n",
        "        print(\"Player2 is X\")\n",
        "        x = True\n",
        "      return player1\n"
      ]
    },
    {
      "cell_type": "markdown",
      "metadata": {
        "id": "XquhTbnHk6eu"
      },
      "source": [
        "**TEST Step 2:** run the function to make sure it returns the desired output"
      ]
    },
    {
      "cell_type": "code",
      "execution_count": 18,
      "metadata": {
        "collapsed": true,
        "id": "caEE2w_nk6ev",
        "outputId": "11ecc046-f7e9-4958-b76f-a62ad7852324",
        "colab": {
          "base_uri": "https://localhost:8080/",
          "height": 53
        }
      },
      "outputs": [
        {
          "name": "stdout",
          "output_type": "stream",
          "text": [
            "Please pick a marker 'X' or 'O'0\n"
          ]
        },
        {
          "output_type": "execute_result",
          "data": {
            "text/plain": [
              "'0'"
            ],
            "application/vnd.google.colaboratory.intrinsic+json": {
              "type": "string"
            }
          },
          "metadata": {},
          "execution_count": 18
        }
      ],
      "source": [
        "player_input()"
      ]
    },
    {
      "cell_type": "markdown",
      "metadata": {
        "id": "R-QDaaGmk6ev"
      },
      "source": [
        "**Step 3: Write a function that takes in the board list object, a marker ('X' or 'O'), and a desired position (number 1-9) and assigns it to the board.**"
      ]
    },
    {
      "cell_type": "code",
      "execution_count": 19,
      "metadata": {
        "collapsed": true,
        "id": "JZywhu_gk6ev"
      },
      "outputs": [],
      "source": [
        "def place_marker(board, marker, position):\n",
        "    i = position\n",
        "    board[i] = marker\n",
        "    return board[i]\n"
      ]
    },
    {
      "cell_type": "markdown",
      "metadata": {
        "id": "kFDK59WRk6ew"
      },
      "source": [
        "**TEST Step 3:** run the place marker function using test parameters and display the modified board"
      ]
    },
    {
      "cell_type": "code",
      "execution_count": 20,
      "metadata": {
        "collapsed": true,
        "id": "FOktTTXJk6ew",
        "outputId": "2f50a37e-5445-4c4b-be31-bac09a9dc049",
        "colab": {
          "base_uri": "https://localhost:8080/"
        }
      },
      "outputs": [
        {
          "output_type": "stream",
          "name": "stdout",
          "text": [
            "['X', '0', 'X']\n",
            "['X', 'O', 'X']\n",
            "['X', 'X', '$']\n"
          ]
        }
      ],
      "source": [
        "place_marker(test_board,'$',8)\n",
        "display_board(test_board)"
      ]
    },
    {
      "cell_type": "markdown",
      "metadata": {
        "id": "RQRJ_1PHk6ew"
      },
      "source": [
        "**Step 4: Write a function that takes in a board and a mark (X or O) and then checks to see if that mark has won. **"
      ]
    },
    {
      "cell_type": "code",
      "execution_count": 43,
      "metadata": {
        "collapsed": true,
        "id": "OPejbbB8k6ew"
      },
      "outputs": [],
      "source": [
        "def win_check(board, mark):\n",
        "    if board[0:3] or board[3:6] or board[6:9] or (board[0] and board[3] and board[6]) or (board[1] and board[4] and board[7]) or (board[2] and board[5] and board[8]) or (board[0] and board[4] and board[8]) or (board[2] and board[4] and board[6]) == [mark,mark,mark]:\n",
        "      if mark == \"X\":\n",
        "         print(\"Player1 won!\")\n",
        "         return True\n",
        "      elif mark == \"0\":\n",
        "         print(\"Player2 won!\")\n",
        "         return True\n",
        "    else:\n",
        "      print (\"No winners\")\n",
        "    return False\n"
      ]
    },
    {
      "cell_type": "markdown",
      "metadata": {
        "id": "6RecjyaIk6ex"
      },
      "source": [
        "**TEST Step 4:** run the win_check function against our test_board - it should return True"
      ]
    },
    {
      "cell_type": "code",
      "execution_count": 22,
      "metadata": {
        "collapsed": true,
        "id": "RGrUp2yLk6ex",
        "outputId": "99f154aa-ae21-4bb4-99ee-970b91876116",
        "colab": {
          "base_uri": "https://localhost:8080/"
        }
      },
      "outputs": [
        {
          "output_type": "stream",
          "name": "stdout",
          "text": [
            "Player1 won!\n"
          ]
        }
      ],
      "source": [
        "win_check(test_board,'X')\n"
      ]
    },
    {
      "cell_type": "markdown",
      "metadata": {
        "id": "cEjEOBgRk6ex"
      },
      "source": [
        "**Step 5: Write a function that uses the random module to randomly decide which player goes first. You may want to lookup random.randint() Return a string of which player went first.**"
      ]
    },
    {
      "cell_type": "code",
      "execution_count": 23,
      "metadata": {
        "collapsed": true,
        "id": "DdECoF1mk6ex"
      },
      "outputs": [],
      "source": [
        "import random\n",
        "\n",
        "def choose_first():\n",
        "  a = random.randint(0,1)\n",
        "  if a == 0:\n",
        "    print(\"Player1 starts first\")\n",
        "  else:\n",
        "    print(\"Player2 starts first\")\n",
        "  return"
      ]
    },
    {
      "cell_type": "markdown",
      "metadata": {
        "id": "gmWuv2nRk6ey"
      },
      "source": [
        "**Step 6: Write a function that returns a boolean indicating whether a space on the board is freely available.**"
      ]
    },
    {
      "cell_type": "code",
      "execution_count": 54,
      "metadata": {
        "collapsed": true,
        "id": "6GfDnvFKk6ey"
      },
      "outputs": [],
      "source": [
        "def space_check(board, position):\n",
        "    if board[position] == \"a\":\n",
        "      return True\n",
        "    else:\n",
        "      return False"
      ]
    },
    {
      "cell_type": "markdown",
      "metadata": {
        "id": "OYyg3oJwk6ey"
      },
      "source": [
        "**Step 7: Write a function that checks if the board is full and returns a boolean value. True if full, False otherwise.**"
      ]
    },
    {
      "cell_type": "code",
      "execution_count": 56,
      "metadata": {
        "collapsed": true,
        "id": "yhNXJGUDk6ey"
      },
      "outputs": [],
      "source": [
        "def full_board_check(board):\n",
        "    if \"a\" in board == False:\n",
        "      return False\n",
        "    else:\n",
        "      return True\n"
      ]
    },
    {
      "cell_type": "markdown",
      "metadata": {
        "id": "5o2ZtSxlk6ey"
      },
      "source": [
        "**Step 8: Write a function that asks for a player's next position (as a number 1-9) and then uses the function from step 6 to check if it's a free position. If it is, then return the position for later use.**"
      ]
    },
    {
      "cell_type": "code",
      "execution_count": 29,
      "metadata": {
        "collapsed": true,
        "id": "bSwH30qpk6ez"
      },
      "outputs": [],
      "source": [
        "def player_choice(board):\n",
        "    x = False\n",
        "    while x == False:\n",
        "      player = int(input(\"Please pick a number 0-8\"))\n",
        "      print(player)\n",
        "      if player in [0,1,2,3,4,5,6,7,8]:\n",
        "        if space_check(board,player) == True:\n",
        "          x = True\n",
        "          return player\n",
        "        else:\n",
        "           print(\"Not a free position, choose again\")"
      ]
    },
    {
      "cell_type": "markdown",
      "metadata": {
        "id": "Ayet9RoKk6ez"
      },
      "source": [
        "**Step 9: Write a function that asks the player if they want to play again and returns a boolean True if they do want to play again.**"
      ]
    },
    {
      "cell_type": "code",
      "execution_count": 27,
      "metadata": {
        "collapsed": true,
        "id": "ZPZEDn5Sk6ez",
        "outputId": "424f6277-ec16-437a-92f5-01dbce37dae2",
        "colab": {
          "base_uri": "https://localhost:8080/"
        }
      },
      "outputs": [
        {
          "output_type": "stream",
          "name": "stdout",
          "text": [
            "Do you want to play again? Y or NY\n",
            "Play again\n"
          ]
        },
        {
          "output_type": "execute_result",
          "data": {
            "text/plain": [
              "True"
            ]
          },
          "metadata": {},
          "execution_count": 27
        }
      ],
      "source": [
        "def replay():\n",
        "     x = False\n",
        "     while x == False:\n",
        "        player = input(\"Do you want to play again? Y or N\")\n",
        "        if player == \"Y\":\n",
        "          print(\"Play again\")\n",
        "          return True\n",
        "        else:\n",
        "          print(\"Okay bye\")\n",
        "          return False\n",
        "replay()"
      ]
    },
    {
      "cell_type": "markdown",
      "metadata": {
        "collapsed": true,
        "id": "wA7jRlf_k6ez"
      },
      "source": [
        "**Step 10: Here comes the hard part! Use while loops and the functions you've made to run the game!**"
      ]
    },
    {
      "cell_type": "code",
      "execution_count": 59,
      "metadata": {
        "collapsed": true,
        "id": "LoUqY2a_k6ez",
        "outputId": "394e5bcc-19fb-4e6e-a2d3-bb88a8026448",
        "colab": {
          "base_uri": "https://localhost:8080/",
          "height": 1000
        }
      },
      "outputs": [
        {
          "output_type": "stream",
          "name": "stdout",
          "text": [
            "Welcome to Tic Tac Toe!\n",
            "Please pick a marker 'X' or 'O'X\n",
            "Player1 is X\n",
            "Player2 is 0\n",
            "Player2 starts first\n",
            "player1's turn\n",
            "Please pick a number 0-82\n",
            "2\n",
            "['a', 'a', 'X']\n",
            "['a', 'a', 'a']\n",
            "['a', 'a', 'a']\n",
            "player2's turn\n",
            "Please pick a number 0-83\n",
            "3\n",
            "['a', 'a', 'X']\n",
            "['0', 'a', 'a']\n",
            "['a', 'a', 'a']\n",
            "player1's turn\n",
            "Please pick a number 0-84\n",
            "4\n",
            "['a', 'a', 'X']\n",
            "['0', 'X', 'a']\n",
            "['a', 'a', 'a']\n",
            "player2's turn\n",
            "Please pick a number 0-85\n",
            "5\n",
            "['a', 'a', 'X']\n",
            "['0', 'X', '0']\n",
            "['a', 'a', 'a']\n",
            "player1's turn\n",
            "Please pick a number 0-86\n",
            "6\n",
            "['a', 'a', 'X']\n",
            "['0', 'X', '0']\n",
            "['X', 'a', 'a']\n",
            "player2's turn\n",
            "Please pick a number 0-87\n",
            "7\n",
            "['a', 'a', 'X']\n",
            "['0', 'X', '0']\n",
            "['X', '0', 'a']\n",
            "player1's turn\n",
            "Please pick a number 0-82\n",
            "2\n",
            "Not a free position, choose again\n",
            "Please pick a number 0-89\n",
            "9\n",
            "Please pick a number 0-89\n",
            "9\n",
            "Please pick a number 0-87\n",
            "7\n",
            "Not a free position, choose again\n",
            "Please pick a number 0-83\n",
            "3\n",
            "Not a free position, choose again\n",
            "Please pick a number 0-84\n",
            "4\n",
            "Not a free position, choose again\n",
            "Please pick a number 0-85\n",
            "5\n",
            "Not a free position, choose again\n",
            "Please pick a number 0-86\n",
            "6\n",
            "Not a free position, choose again\n",
            "Please pick a number 0-87\n",
            "7\n",
            "Not a free position, choose again\n",
            "Please pick a number 0-88\n",
            "8\n",
            "['a', 'a', 'X']\n",
            "['0', 'X', '0']\n",
            "['X', '0', 'X']\n",
            "player2's turn\n",
            "Please pick a number 0-81\n",
            "1\n",
            "['a', '0', 'X']\n",
            "['0', 'X', '0']\n",
            "['X', '0', 'X']\n",
            "player1's turn\n",
            "Please pick a number 0-80\n",
            "0\n",
            "['X', '0', 'X']\n",
            "['0', 'X', '0']\n",
            "['X', '0', 'X']\n",
            "player2's turn\n",
            "Please pick a number 0-86\n",
            "6\n",
            "Not a free position, choose again\n"
          ]
        },
        {
          "output_type": "error",
          "ename": "KeyboardInterrupt",
          "evalue": "ignored",
          "traceback": [
            "\u001b[0;31m---------------------------------------------------------------------------\u001b[0m",
            "\u001b[0;31mKeyboardInterrupt\u001b[0m                         Traceback (most recent call last)",
            "\u001b[0;32m<ipython-input-59-d7692c71c9c5>\u001b[0m in \u001b[0;36m<cell line: 14>\u001b[0;34m()\u001b[0m\n\u001b[1;32m     23\u001b[0m   \u001b[0mdisplay_board\u001b[0m\u001b[0;34m(\u001b[0m\u001b[0mboard\u001b[0m\u001b[0;34m)\u001b[0m\u001b[0;34m\u001b[0m\u001b[0;34m\u001b[0m\u001b[0m\n\u001b[1;32m     24\u001b[0m   \u001b[0mprint\u001b[0m\u001b[0;34m(\u001b[0m\u001b[0;34m\"player2's turn\"\u001b[0m\u001b[0;34m)\u001b[0m\u001b[0;34m\u001b[0m\u001b[0;34m\u001b[0m\u001b[0m\n\u001b[0;32m---> 25\u001b[0;31m   \u001b[0mposition2\u001b[0m \u001b[0;34m=\u001b[0m \u001b[0mplayer_choice\u001b[0m\u001b[0;34m(\u001b[0m\u001b[0mboard\u001b[0m\u001b[0;34m)\u001b[0m\u001b[0;34m\u001b[0m\u001b[0;34m\u001b[0m\u001b[0m\n\u001b[0m\u001b[1;32m     26\u001b[0m   \u001b[0mplace_marker\u001b[0m\u001b[0;34m(\u001b[0m\u001b[0mboard\u001b[0m\u001b[0;34m,\u001b[0m \u001b[0mmarker2\u001b[0m\u001b[0;34m,\u001b[0m \u001b[0mposition2\u001b[0m\u001b[0;34m)\u001b[0m\u001b[0;34m\u001b[0m\u001b[0;34m\u001b[0m\u001b[0m\n\u001b[1;32m     27\u001b[0m \u001b[0;31m#  if full_board_check(board) == False or win_check(board, marker2) == True:\u001b[0m\u001b[0;34m\u001b[0m\u001b[0;34m\u001b[0m\u001b[0m\n",
            "\u001b[0;32m<ipython-input-29-1606c4062bb1>\u001b[0m in \u001b[0;36mplayer_choice\u001b[0;34m(board)\u001b[0m\n\u001b[1;32m      2\u001b[0m     \u001b[0mx\u001b[0m \u001b[0;34m=\u001b[0m \u001b[0;32mFalse\u001b[0m\u001b[0;34m\u001b[0m\u001b[0;34m\u001b[0m\u001b[0m\n\u001b[1;32m      3\u001b[0m     \u001b[0;32mwhile\u001b[0m \u001b[0mx\u001b[0m \u001b[0;34m==\u001b[0m \u001b[0;32mFalse\u001b[0m\u001b[0;34m:\u001b[0m\u001b[0;34m\u001b[0m\u001b[0;34m\u001b[0m\u001b[0m\n\u001b[0;32m----> 4\u001b[0;31m       \u001b[0mplayer\u001b[0m \u001b[0;34m=\u001b[0m \u001b[0mint\u001b[0m\u001b[0;34m(\u001b[0m\u001b[0minput\u001b[0m\u001b[0;34m(\u001b[0m\u001b[0;34m\"Please pick a number 0-8\"\u001b[0m\u001b[0;34m)\u001b[0m\u001b[0;34m)\u001b[0m\u001b[0;34m\u001b[0m\u001b[0;34m\u001b[0m\u001b[0m\n\u001b[0m\u001b[1;32m      5\u001b[0m       \u001b[0mprint\u001b[0m\u001b[0;34m(\u001b[0m\u001b[0mplayer\u001b[0m\u001b[0;34m)\u001b[0m\u001b[0;34m\u001b[0m\u001b[0;34m\u001b[0m\u001b[0m\n\u001b[1;32m      6\u001b[0m       \u001b[0;32mif\u001b[0m \u001b[0mplayer\u001b[0m \u001b[0;32min\u001b[0m \u001b[0;34m[\u001b[0m\u001b[0;36m0\u001b[0m\u001b[0;34m,\u001b[0m\u001b[0;36m1\u001b[0m\u001b[0;34m,\u001b[0m\u001b[0;36m2\u001b[0m\u001b[0;34m,\u001b[0m\u001b[0;36m3\u001b[0m\u001b[0;34m,\u001b[0m\u001b[0;36m4\u001b[0m\u001b[0;34m,\u001b[0m\u001b[0;36m5\u001b[0m\u001b[0;34m,\u001b[0m\u001b[0;36m6\u001b[0m\u001b[0;34m,\u001b[0m\u001b[0;36m7\u001b[0m\u001b[0;34m,\u001b[0m\u001b[0;36m8\u001b[0m\u001b[0;34m]\u001b[0m\u001b[0;34m:\u001b[0m\u001b[0;34m\u001b[0m\u001b[0;34m\u001b[0m\u001b[0m\n",
            "\u001b[0;32m/usr/local/lib/python3.10/dist-packages/ipykernel/kernelbase.py\u001b[0m in \u001b[0;36mraw_input\u001b[0;34m(self, prompt)\u001b[0m\n\u001b[1;32m    849\u001b[0m                 \u001b[0;34m\"raw_input was called, but this frontend does not support input requests.\"\u001b[0m\u001b[0;34m\u001b[0m\u001b[0;34m\u001b[0m\u001b[0m\n\u001b[1;32m    850\u001b[0m             )\n\u001b[0;32m--> 851\u001b[0;31m         return self._input_request(str(prompt),\n\u001b[0m\u001b[1;32m    852\u001b[0m             \u001b[0mself\u001b[0m\u001b[0;34m.\u001b[0m\u001b[0m_parent_ident\u001b[0m\u001b[0;34m,\u001b[0m\u001b[0;34m\u001b[0m\u001b[0;34m\u001b[0m\u001b[0m\n\u001b[1;32m    853\u001b[0m             \u001b[0mself\u001b[0m\u001b[0;34m.\u001b[0m\u001b[0m_parent_header\u001b[0m\u001b[0;34m,\u001b[0m\u001b[0;34m\u001b[0m\u001b[0;34m\u001b[0m\u001b[0m\n",
            "\u001b[0;32m/usr/local/lib/python3.10/dist-packages/ipykernel/kernelbase.py\u001b[0m in \u001b[0;36m_input_request\u001b[0;34m(self, prompt, ident, parent, password)\u001b[0m\n\u001b[1;32m    893\u001b[0m             \u001b[0;32mexcept\u001b[0m \u001b[0mKeyboardInterrupt\u001b[0m\u001b[0;34m:\u001b[0m\u001b[0;34m\u001b[0m\u001b[0;34m\u001b[0m\u001b[0m\n\u001b[1;32m    894\u001b[0m                 \u001b[0;31m# re-raise KeyboardInterrupt, to truncate traceback\u001b[0m\u001b[0;34m\u001b[0m\u001b[0;34m\u001b[0m\u001b[0m\n\u001b[0;32m--> 895\u001b[0;31m                 \u001b[0;32mraise\u001b[0m \u001b[0mKeyboardInterrupt\u001b[0m\u001b[0;34m(\u001b[0m\u001b[0;34m\"Interrupted by user\"\u001b[0m\u001b[0;34m)\u001b[0m \u001b[0;32mfrom\u001b[0m \u001b[0;32mNone\u001b[0m\u001b[0;34m\u001b[0m\u001b[0;34m\u001b[0m\u001b[0m\n\u001b[0m\u001b[1;32m    896\u001b[0m             \u001b[0;32mexcept\u001b[0m \u001b[0mException\u001b[0m \u001b[0;32mas\u001b[0m \u001b[0me\u001b[0m\u001b[0;34m:\u001b[0m\u001b[0;34m\u001b[0m\u001b[0;34m\u001b[0m\u001b[0m\n\u001b[1;32m    897\u001b[0m                 \u001b[0mself\u001b[0m\u001b[0;34m.\u001b[0m\u001b[0mlog\u001b[0m\u001b[0;34m.\u001b[0m\u001b[0mwarning\u001b[0m\u001b[0;34m(\u001b[0m\u001b[0;34m\"Invalid Message:\"\u001b[0m\u001b[0;34m,\u001b[0m \u001b[0mexc_info\u001b[0m\u001b[0;34m=\u001b[0m\u001b[0;32mTrue\u001b[0m\u001b[0;34m)\u001b[0m\u001b[0;34m\u001b[0m\u001b[0;34m\u001b[0m\u001b[0m\n",
            "\u001b[0;31mKeyboardInterrupt\u001b[0m: Interrupted by user"
          ]
        }
      ],
      "source": [
        "print('Welcome to Tic Tac Toe!')\n",
        "board = [\"a\",\"a\",\"a\",\"a\",\"a\",\"a\",\"a\",\"a\",\"a\"]\n",
        "#while True:\n",
        "x = False\n",
        "game_on = True\n",
        "marker2 = 0\n",
        "marker1 = player_input()\n",
        "if marker1 == \"X\":\n",
        "  marker2 = \"0\"\n",
        "else:\n",
        "  marker2 = \"X\"\n",
        "choose_first()\n",
        "\n",
        "while game_on == True:\n",
        "  print(\"player1's turn\")\n",
        "  position1 = player_choice(board)\n",
        "  place_marker(board, marker1, position1)\n",
        "#  if full_board_check(board) == False or win_check(board, marker1) == True:\n",
        "#      if replay() == True:\n",
        "#          board = [\"a\",\"a\",\"a\",\"a\",\"a\",\"a\",\"a\",\"a\",\"a\"]\n",
        "#      else:\n",
        "#        break\n",
        "  display_board(board)\n",
        "  print(\"player2's turn\")\n",
        "  position2 = player_choice(board)\n",
        "  place_marker(board, marker2, position2)\n",
        "#  if full_board_check(board) == False or win_check(board, marker2) == True:\n",
        "#      if replay() == True:\n",
        "#          board = [\"a\",\"a\",\"a\",\"a\",\"a\",\"a\",\"a\",\"a\",\"a\"]\n",
        "#      else:\n",
        "#        break\n",
        "  display_board(board)\n",
        "\n",
        "    # Set the game up here\n",
        "    #pass\n",
        "\n",
        "    #while game_on:\n",
        "        #Player 1 Turn\n",
        "\n",
        "\n",
        "        # Player2's turn.\n",
        "\n",
        "            #pass\n",
        "\n",
        "    #if not replay():\n",
        "        #break"
      ]
    },
    {
      "cell_type": "markdown",
      "metadata": {
        "collapsed": true,
        "id": "5wTiVup_k6e0"
      },
      "source": [
        "## Good Job!"
      ]
    }
  ],
  "metadata": {
    "kernelspec": {
      "display_name": "Python 3",
      "language": "python",
      "name": "python3"
    },
    "language_info": {
      "codemirror_mode": {
        "name": "ipython",
        "version": 3
      },
      "file_extension": ".py",
      "mimetype": "text/x-python",
      "name": "python",
      "nbconvert_exporter": "python",
      "pygments_lexer": "ipython3",
      "version": "3.6.6"
    },
    "colab": {
      "provenance": []
    }
  },
  "nbformat": 4,
  "nbformat_minor": 0
}