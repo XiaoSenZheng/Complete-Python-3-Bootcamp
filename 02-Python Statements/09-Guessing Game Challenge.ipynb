{
  "cells": [
    {
      "cell_type": "markdown",
      "metadata": {
        "id": "zu1vatB7Dur2"
      },
      "source": [
        "___\n",
        "\n",
        "<a href='https://www.udemy.com/user/joseportilla/'><img src='https://github.com/Pierian-Data/Complete-Python-3-Bootcamp/blob/master/Pierian_Data_Logo.png?raw=1'/></a>\n",
        "___\n",
        "<center><em>Content Copyright by Pierian Data</em></center>"
      ]
    },
    {
      "cell_type": "markdown",
      "metadata": {
        "id": "ULxH42WzDur6"
      },
      "source": [
        "# Guessing Game Challenge\n",
        "\n",
        "Let's use `while` loops to create a guessing game.\n",
        "\n",
        "The Challenge:\n",
        "\n",
        "Write a program that picks a random integer from 1 to 100, and has players guess the number. The rules are:\n",
        "\n",
        "1. If a player's guess is less than 1 or greater than 100, say \"OUT OF BOUNDS\"\n",
        "2. On a player's first turn, if their guess is\n",
        " * within 10 of the number, return \"WARM!\"\n",
        " * further than 10 away from the number, return \"COLD!\"\n",
        "3. On all subsequent turns, if a guess is\n",
        " * closer to the number than the previous guess return \"WARMER!\"\n",
        " * farther from the number than the previous guess, return \"COLDER!\"\n",
        "4. When the player's guess equals the number, tell them they've guessed correctly *and* how many guesses it took!\n",
        "\n",
        "You can try this from scratch, or follow the steps outlined below. A separate Solution notebook has been provided. Good luck!\n"
      ]
    },
    {
      "cell_type": "markdown",
      "metadata": {
        "id": "AEErJogkDur8"
      },
      "source": [
        "#### First, pick a random integer from 1 to 100 using the random module and assign it to a variable\n",
        "\n",
        "Note: `random.randint(a,b)` returns a random integer in range `[a, b]`, including both end points."
      ]
    },
    {
      "cell_type": "code",
      "execution_count": 5,
      "metadata": {
        "collapsed": true,
        "id": "hUvJT31rDur8",
        "outputId": "3e905ca1-17dc-4ecc-b0ca-ef1c223ad45f",
        "colab": {
          "base_uri": "https://localhost:8080/"
        }
      },
      "outputs": [
        {
          "output_type": "stream",
          "name": "stdout",
          "text": [
            "68\n"
          ]
        }
      ],
      "source": [
        "import random\n",
        "a = random.randint(1,100)\n",
        "print(a)"
      ]
    },
    {
      "cell_type": "markdown",
      "metadata": {
        "id": "tfdehNX-Dur9"
      },
      "source": [
        "#### Next, print an introduction to the game and explain the rules"
      ]
    },
    {
      "cell_type": "code",
      "execution_count": null,
      "metadata": {
        "collapsed": true,
        "id": "syM6Rs1QDur9"
      },
      "outputs": [],
      "source": [
        "print(\"The challenge, see rules in attachment\")"
      ]
    },
    {
      "cell_type": "markdown",
      "metadata": {
        "id": "muGZKTR1Dur9"
      },
      "source": [
        "#### Create a list to store guesses\n",
        "\n",
        "Hint: zero is a good placeholder value. It's useful because it evaluates to \"False\""
      ]
    },
    {
      "cell_type": "code",
      "execution_count": 22,
      "metadata": {
        "collapsed": true,
        "id": "YmQF_T5SDur9"
      },
      "outputs": [],
      "source": [
        "guess_list = [0]"
      ]
    },
    {
      "cell_type": "markdown",
      "metadata": {
        "id": "DGOiV5OrDur-"
      },
      "source": [
        "#### Write a `while` loop that asks for a valid guess. Test it a few times to make sure it works."
      ]
    },
    {
      "cell_type": "code",
      "execution_count": 9,
      "metadata": {
        "collapsed": true,
        "id": "aFpx6hafDur-",
        "outputId": "29f69324-a93b-4b84-b589-8af0e234957e",
        "colab": {
          "base_uri": "https://localhost:8080/"
        }
      },
      "outputs": [
        {
          "output_type": "stream",
          "name": "stdout",
          "text": [
            "ok\n"
          ]
        }
      ],
      "source": [
        "while True:\n",
        "  if 1 <= a and a <= 100:\n",
        "    print(\"ok\")\n",
        "    break\n",
        "  else:\n",
        "    print(\"OUT OF BOUNDS\")\n",
        "\n",
        ""
      ]
    },
    {
      "cell_type": "markdown",
      "metadata": {
        "id": "OhL3zp1yDusE"
      },
      "source": [
        "#### Write a `while` loop that compares the player's guess to our number. If the player guesses correctly, break from the loop. Otherwise, tell the player if they're warmer or colder, and continue asking for guesses.\n",
        "\n",
        "Some hints:\n",
        "* it may help to sketch out all possible combinations on paper first!\n",
        "* you can use the `abs()` function to find the positive difference between two numbers\n",
        "* if you append all new guesses to the list, then the previous guess is given as `guesses[-2]`"
      ]
    },
    {
      "cell_type": "code",
      "execution_count": 28,
      "metadata": {
        "collapsed": true,
        "id": "7bZiBmriDusE",
        "outputId": "d1f3ed1a-b098-410d-a701-37e02881deae",
        "colab": {
          "base_uri": "https://localhost:8080/"
        }
      },
      "outputs": [
        {
          "output_type": "stream",
          "name": "stdout",
          "text": [
            "40\n",
            "COLD\n",
            "WARMER\n",
            "50\n",
            "COLD\n",
            "WARMER\n",
            "89\n",
            "COLD\n",
            "COLDER\n",
            "60\n",
            "WARM\n",
            "WARMER\n",
            "62\n",
            "WARM\n",
            "WARMER\n",
            "65\n",
            "WARM\n",
            "WARMER\n",
            "64\n",
            "WARM\n",
            "COLDER\n",
            "68\n",
            "You got it\n"
          ]
        }
      ],
      "source": [
        "\n",
        "while True:\n",
        "  b = input()\n",
        "  b = int(b)\n",
        "\n",
        "  if a == b:\n",
        "    print(\"You got it\")\n",
        "    break\n",
        "  guess_list.append(b)\n",
        "  if 1 <= b and b <= 100:\n",
        "    if abs(b-10) < a < abs(b+10):\n",
        "      print(\"WARM\")\n",
        "    else:\n",
        "      print(\"COLD\")\n",
        "    if abs(a - guess_list[-2]) > abs(a-guess_list[-1]):\n",
        "      print (\"WARMER\")\n",
        "    else:\n",
        "      print(\"COLDER\")\n",
        "  else:\n",
        "    print(\"OUT OF BOUNDS\")\n"
      ]
    },
    {
      "cell_type": "markdown",
      "metadata": {
        "id": "8K0FWf9ADusE"
      },
      "source": [
        "That's it! You've just programmed your first game!\n",
        "\n",
        "In the next section we'll learn how to turn some of these repetitive actions into *functions* that can be called whenever we need them."
      ]
    },
    {
      "cell_type": "markdown",
      "metadata": {
        "id": "QaJ7rkiKDusF"
      },
      "source": [
        "### Good Job!"
      ]
    }
  ],
  "metadata": {
    "kernelspec": {
      "display_name": "Python 3",
      "language": "python",
      "name": "python3"
    },
    "language_info": {
      "codemirror_mode": {
        "name": "ipython",
        "version": 3
      },
      "file_extension": ".py",
      "mimetype": "text/x-python",
      "name": "python",
      "nbconvert_exporter": "python",
      "pygments_lexer": "ipython3",
      "version": "3.6.6"
    },
    "colab": {
      "provenance": []
    }
  },
  "nbformat": 4,
  "nbformat_minor": 0
}